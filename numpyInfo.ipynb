{
 "cells": [
  {
   "cell_type": "code",
   "id": "initial_id",
   "metadata": {
    "collapsed": true,
    "ExecuteTime": {
     "end_time": "2024-10-10T19:40:39.642014Z",
     "start_time": "2024-10-10T19:40:39.634651Z"
    }
   },
   "source": "import numpy as np",
   "outputs": [],
   "execution_count": 23
  },
  {
   "metadata": {},
   "cell_type": "markdown",
   "source": "",
   "id": "68a58f0669948d84"
  },
  {
   "metadata": {
    "ExecuteTime": {
     "end_time": "2024-10-10T19:40:39.667097Z",
     "start_time": "2024-10-10T19:40:39.659738Z"
    }
   },
   "cell_type": "code",
   "source": [
    "a = np.array([1,2,3])\n",
    "b = np.array([[4,5,6],[7,8,9]])\n",
    "\n",
    "c = np.array([[1,2,3,4,5,6,7,8,9,10],[11,12,13,14,15,16,17,18,19,20]])"
   ],
   "id": "133c07083eeadb74",
   "outputs": [],
   "execution_count": 24
  },
  {
   "metadata": {
    "ExecuteTime": {
     "end_time": "2024-10-10T19:40:39.709957Z",
     "start_time": "2024-10-10T19:40:39.702394Z"
    }
   },
   "cell_type": "code",
   "source": "print(b.ndim) #gets dimensions",
   "id": "e448b37ae1e6c674",
   "outputs": [
    {
     "name": "stdout",
     "output_type": "stream",
     "text": [
      "2\n"
     ]
    }
   ],
   "execution_count": 25
  },
  {
   "metadata": {
    "ExecuteTime": {
     "end_time": "2024-10-10T19:40:39.806049Z",
     "start_time": "2024-10-10T19:40:39.802425Z"
    }
   },
   "cell_type": "code",
   "source": [
    "#get specific element [row,column]\n",
    "b[0,2] #gets 6"
   ],
   "id": "a8e2741edeb28473",
   "outputs": [
    {
     "data": {
      "text/plain": [
       "6"
      ]
     },
     "execution_count": 26,
     "metadata": {},
     "output_type": "execute_result"
    }
   ],
   "execution_count": 26
  },
  {
   "metadata": {
    "ExecuteTime": {
     "end_time": "2024-10-10T19:40:39.834365Z",
     "start_time": "2024-10-10T19:40:39.829966Z"
    }
   },
   "cell_type": "code",
   "source": [
    "#get specific row\n",
    "b[0,:] #gets column and whole row"
   ],
   "id": "f2d6ffb47c7bfdbd",
   "outputs": [
    {
     "data": {
      "text/plain": [
       "array([4, 5, 6])"
      ]
     },
     "execution_count": 27,
     "metadata": {},
     "output_type": "execute_result"
    }
   ],
   "execution_count": 27
  },
  {
   "metadata": {
    "ExecuteTime": {
     "end_time": "2024-10-10T19:40:39.851169Z",
     "start_time": "2024-10-10T19:40:39.846648Z"
    }
   },
   "cell_type": "code",
   "source": [
    "#get a column\n",
    "b[:,0]#gets all column of row\n",
    "#justing using : gets all of that type, in this case all rows"
   ],
   "id": "d897645b9d51ca8d",
   "outputs": [
    {
     "data": {
      "text/plain": [
       "array([4, 7])"
      ]
     },
     "execution_count": 28,
     "metadata": {},
     "output_type": "execute_result"
    }
   ],
   "execution_count": 28
  },
  {
   "metadata": {
    "ExecuteTime": {
     "end_time": "2024-10-10T19:40:39.878619Z",
     "start_time": "2024-10-10T19:40:39.867854Z"
    }
   },
   "cell_type": "code",
   "source": [
    "#get by step [row,startindex:endindex:stepsize]\n",
    "c[0,1:6:2] #0-6 every second elem, selecting from row 0"
   ],
   "id": "917a951ca2f9396d",
   "outputs": [
    {
     "data": {
      "text/plain": [
       "array([2, 4, 6])"
      ]
     },
     "execution_count": 29,
     "metadata": {},
     "output_type": "execute_result"
    }
   ],
   "execution_count": 29
  },
  {
   "metadata": {
    "ExecuteTime": {
     "end_time": "2024-10-10T19:40:39.907258Z",
     "start_time": "2024-10-10T19:40:39.904442Z"
    }
   },
   "cell_type": "code",
   "source": [
    "b[0,1]=20\n",
    "print(b)"
   ],
   "id": "6e0a683e9750b47a",
   "outputs": [
    {
     "name": "stdout",
     "output_type": "stream",
     "text": [
      "[[ 4 20  6]\n",
      " [ 7  8  9]]\n"
     ]
    }
   ],
   "execution_count": 30
  },
  {
   "metadata": {
    "ExecuteTime": {
     "end_time": "2024-10-10T19:40:39.921628Z",
     "start_time": "2024-10-10T19:40:39.918160Z"
    }
   },
   "cell_type": "code",
   "source": [
    "#replace whole column\n",
    "b[:,2] = 5 #all rows, only the second column\n",
    "print(b)"
   ],
   "id": "11e51ce284afb9e7",
   "outputs": [
    {
     "name": "stdout",
     "output_type": "stream",
     "text": [
      "[[ 4 20  5]\n",
      " [ 7  8  5]]\n"
     ]
    }
   ],
   "execution_count": 31
  },
  {
   "metadata": {
    "ExecuteTime": {
     "end_time": "2024-10-10T19:47:16.827570Z",
     "start_time": "2024-10-10T19:47:16.820301Z"
    }
   },
   "cell_type": "code",
   "source": [
    "#3d arr\n",
    "d = np.array([[[1,2],[3,4]],[[5,6],[7,8]]])\n",
    "print(d)\n",
    "\n",
    "d[0,0,0] #works outside in\n",
    "#d[0][0][0]"
   ],
   "id": "f2b25554d59618e1",
   "outputs": [
    {
     "name": "stdout",
     "output_type": "stream",
     "text": [
      "[[[1 2]\n",
      "  [3 4]]\n",
      "\n",
      " [[5 6]\n",
      "  [7 8]]]\n"
     ]
    },
    {
     "data": {
      "text/plain": [
       "1"
      ]
     },
     "execution_count": 46,
     "metadata": {},
     "output_type": "execute_result"
    }
   ],
   "execution_count": 46
  },
  {
   "metadata": {
    "ExecuteTime": {
     "end_time": "2024-10-10T19:47:18.299644Z",
     "start_time": "2024-10-10T19:47:18.295766Z"
    }
   },
   "cell_type": "code",
   "source": [
    "#replacing\n",
    "d[:,1,:] = [[8,8],[9,9]]#replaces by dimension, so the second array in the first array gets replaced with [8,8] and the second array in the second array gets replaced with [9,9]\n",
    "print(d)"
   ],
   "id": "c58473d2e74c5df6",
   "outputs": [
    {
     "name": "stdout",
     "output_type": "stream",
     "text": [
      "[[[1 2]\n",
      "  [8 8]]\n",
      "\n",
      " [[5 6]\n",
      "  [9 9]]]\n"
     ]
    }
   ],
   "execution_count": 47
  },
  {
   "metadata": {},
   "cell_type": "code",
   "outputs": [],
   "execution_count": null,
   "source": "",
   "id": "791559ab1ef7ec8a"
  },
  {
   "metadata": {},
   "cell_type": "markdown",
   "source": "#Initing Arrays",
   "id": "81a8eefb335887de"
  },
  {
   "metadata": {
    "ExecuteTime": {
     "end_time": "2024-10-10T19:59:06.900301Z",
     "start_time": "2024-10-10T19:59:06.886892Z"
    }
   },
   "cell_type": "code",
   "source": [
    "#all zeros\n",
    "print(np.zeros((2,2)))"
   ],
   "id": "f14f47aa50135781",
   "outputs": [
    {
     "name": "stdout",
     "output_type": "stream",
     "text": [
      "[[0. 0.]\n",
      " [0. 0.]]\n"
     ]
    }
   ],
   "execution_count": 50
  },
  {
   "metadata": {
    "ExecuteTime": {
     "end_time": "2024-10-10T19:59:21.706077Z",
     "start_time": "2024-10-10T19:59:21.699550Z"
    }
   },
   "cell_type": "code",
   "source": "print(np.ones((2,2,3)))",
   "id": "91e5d6275b951b53",
   "outputs": [
    {
     "name": "stdout",
     "output_type": "stream",
     "text": [
      "[[[1. 1. 1.]\n",
      "  [1. 1. 1.]]\n",
      "\n",
      " [[1. 1. 1.]\n",
      "  [1. 1. 1.]]]\n"
     ]
    }
   ],
   "execution_count": 51
  },
  {
   "metadata": {
    "ExecuteTime": {
     "end_time": "2024-10-10T19:59:49.803184Z",
     "start_time": "2024-10-10T19:59:49.799954Z"
    }
   },
   "cell_type": "code",
   "source": "print(np.full((2,2),99))",
   "id": "bc7dbcc64b37ea5",
   "outputs": [
    {
     "name": "stdout",
     "output_type": "stream",
     "text": [
      "[[99 99]\n",
      " [99 99]]\n"
     ]
    }
   ],
   "execution_count": 53
  },
  {
   "metadata": {
    "ExecuteTime": {
     "end_time": "2024-10-10T20:04:16.657965Z",
     "start_time": "2024-10-10T20:04:16.648697Z"
    }
   },
   "cell_type": "code",
   "source": [
    "#any other number full_like\n",
    "print(np.full_like(d,4)) #makes an array the same shape as 4"
   ],
   "id": "3fa992ebc1b1d8c8",
   "outputs": [
    {
     "name": "stdout",
     "output_type": "stream",
     "text": [
      "[[[4 4]\n",
      "  [4 4]]\n",
      "\n",
      " [[4 4]\n",
      "  [4 4]]]\n"
     ]
    }
   ],
   "execution_count": 54
  },
  {
   "metadata": {
    "ExecuteTime": {
     "end_time": "2024-10-10T20:05:10.796904Z",
     "start_time": "2024-10-10T20:05:10.787020Z"
    }
   },
   "cell_type": "code",
   "source": [
    "#matrix of random decimal nums\n",
    "print(np.random.rand(4,2)) #rows, cols"
   ],
   "id": "74882efe5ad3381c",
   "outputs": [
    {
     "name": "stdout",
     "output_type": "stream",
     "text": [
      "[[0.47423524 0.36753801]\n",
      " [0.92293146 0.03441876]\n",
      " [0.94600746 0.45500712]\n",
      " [0.67418675 0.76994765]]\n"
     ]
    }
   ],
   "execution_count": 56
  },
  {
   "metadata": {
    "ExecuteTime": {
     "end_time": "2024-10-10T20:06:41.397496Z",
     "start_time": "2024-10-10T20:06:41.393733Z"
    }
   },
   "cell_type": "code",
   "source": [
    "#rand ints\n",
    "print(np.random.randint(7,size=(4,2))) #4x2 0-6(does not include 7)"
   ],
   "id": "1aef05bd97e6d15c",
   "outputs": [
    {
     "name": "stdout",
     "output_type": "stream",
     "text": [
      "[[3 3]\n",
      " [6 0]\n",
      " [1 0]\n",
      " [0 1]]\n"
     ]
    }
   ],
   "execution_count": 60
  },
  {
   "metadata": {
    "ExecuteTime": {
     "end_time": "2024-10-10T20:07:26.297919Z",
     "start_time": "2024-10-10T20:07:26.291393Z"
    }
   },
   "cell_type": "code",
   "source": [
    "#identity matrix\n",
    "print(np.identity(3))"
   ],
   "id": "f75af2263c96bb33",
   "outputs": [
    {
     "name": "stdout",
     "output_type": "stream",
     "text": [
      "[[1. 0. 0.]\n",
      " [0. 1. 0.]\n",
      " [0. 0. 1.]]\n"
     ]
    }
   ],
   "execution_count": 62
  },
  {
   "metadata": {
    "ExecuteTime": {
     "end_time": "2024-10-10T20:09:43.975789Z",
     "start_time": "2024-10-10T20:09:43.962020Z"
    }
   },
   "cell_type": "code",
   "source": [
    "#repeating arrays\n",
    "arr = np.array([[1,2,3]])\n",
    "r1 = np.repeat(arr,3,axis=0)#axis 0 is rows, 1 repeats it across the column \n",
    "print(r1)\n",
    "\n"
   ],
   "id": "30145d47068bd948",
   "outputs": [
    {
     "name": "stdout",
     "output_type": "stream",
     "text": [
      "[[1 2 3]\n",
      " [1 2 3]\n",
      " [1 2 3]]\n"
     ]
    }
   ],
   "execution_count": 69
  },
  {
   "metadata": {
    "ExecuteTime": {
     "end_time": "2024-10-10T20:14:21.970648Z",
     "start_time": "2024-10-10T20:14:21.964970Z"
    }
   },
   "cell_type": "code",
   "source": [
    "r2 = np.repeat(arr,3,axis=1)\n",
    "print(r2)"
   ],
   "id": "e1f623b713235dab",
   "outputs": [
    {
     "name": "stdout",
     "output_type": "stream",
     "text": [
      "[[1 1 1 2 2 2 3 3 3]]\n"
     ]
    }
   ],
   "execution_count": 71
  }
 ],
 "metadata": {
  "kernelspec": {
   "display_name": "Python 3",
   "language": "python",
   "name": "python3"
  },
  "language_info": {
   "codemirror_mode": {
    "name": "ipython",
    "version": 2
   },
   "file_extension": ".py",
   "mimetype": "text/x-python",
   "name": "python",
   "nbconvert_exporter": "python",
   "pygments_lexer": "ipython2",
   "version": "2.7.6"
  }
 },
 "nbformat": 4,
 "nbformat_minor": 5
}
